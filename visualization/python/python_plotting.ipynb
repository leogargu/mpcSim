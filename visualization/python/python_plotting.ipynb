{
 "metadata": {
  "name": "",
  "signature": "sha256:cb86eb415711bf916d6c56d428c726102257dda5416c6907dc8ea8296972de85"
 },
 "nbformat": 3,
 "nbformat_minor": 0,
 "worksheets": [
  {
   "cells": [
    {
     "cell_type": "code",
     "collapsed": false,
     "input": [
      "import pandas as pd\n",
      "import matplotlib.pyplot as plt\n",
      "import pylab as pl\n",
      "import numpy as np\n",
      "import sys\n",
      "from matplotlib.backends.backend_pdf import PdfPages\n",
      "%matplotlib inline\n",
      "\n",
      "#define input and output directory\n",
      "input_file = './../../experiments/test.dat'\n",
      "\n",
      "# Define color of empty cells\n",
      "empty_color_stats='black'\n",
      "empty_color_avgs='white'\n",
      "\n",
      "fh=open(input_file,'r')\n",
      "header=fh.readline()\n",
      "fh.close()\n",
      "\n",
      "# process dimensions of simulation box\n",
      "dimensions=header.split()\n",
      "nx=int(dimensions[0])\n",
      "ny=int(dimensions[1])\n",
      "nz=int(dimensions[2])\n",
      "idx_first_cell = int(dimensions[3])\n",
      "idx_last_cell = int(dimensions[4])\n",
      "first_file = int(dimensions[5])\n",
      "stride = int(dimensions[6])\n",
      "last_file = int(dimensions[7])\n",
      "\n",
      "#get data for the slice to be plotted, save in pandas dataframe\n",
      "data = pd.read_table(input_file,sep='\\t',skiprows=1,skipinitialspace=True,header=None)\n",
      "\n",
      "#separate columns\n",
      "averages=data.values[:,1]\n",
      "\n",
      "data_min = np.nanmin(averages)\n",
      "data_max = np.nanmax(averages)\n",
      "\n",
      "\n",
      "averages=averages.reshape(ny,nz)"
     ],
     "language": "python",
     "metadata": {},
     "outputs": [],
     "prompt_number": 5
    },
    {
     "cell_type": "code",
     "collapsed": false,
     "input": [
      "averages"
     ],
     "language": "python",
     "metadata": {},
     "outputs": [
      {
       "metadata": {},
       "output_type": "pyout",
       "prompt_number": 7,
       "text": [
        "array([[-8, -7, -6, -5],\n",
        "       [-4, -3, -2, -1],\n",
        "       [ 1,  2,  3,  4],\n",
        "       [ 5,  6,  7,  8]])"
       ]
      }
     ],
     "prompt_number": 7
    },
    {
     "cell_type": "code",
     "collapsed": false,
     "input": [
      "fg=plt.figure(1)\n",
      "my_cmap=plt.get_cmap('jet') #Also interesting: jet, spectral, rainbow \n",
      "masked_array = np.ma.array(averages, mask=np.isnan(averages))\n",
      "my_cmap.set_bad(color=empty_color_avgs)\n",
      "\n",
      "im_averages=plt.imshow(averages,cmap=my_cmap,vmin=data_min,vmax=data_max,interpolation='nearest',extent=[0,ny,0,nz])#or bilinear, nearest, bicubic\n",
      "plt.colorbar(im_averages,orientation='vertical')\n",
      "#ax=pl.gca()\n",
      "#ax.set_ylim(ax.get_ylim()[::-1])\n",
      "#ax.xaxis.tick_top()\n",
      "#ax.set_xlabel('Z')    \n",
      "#ax.xaxis.set_label_position('top') \n",
      "#ax.set_ylabel('Y')    \n",
      "\n",
      "#plt.axis('off')\n",
      "\n",
      "\n",
      "#ax = plt.axes()\n",
      "#ax.arrow(0,4.2,3,3, head_width=0.05, head_length=0.1, fc='k', ec='k')\n",
      "\n",
      "#ax = fg.add_subplot(1,1,1)\n",
      "ax=plt.gca()\n",
      "ax.arrow(0, ny, nz, 0, fc='k', ec='k',lw = 2,\n",
      "         head_width=0.1, head_length=0.2,\n",
      "         length_includes_head= True, clip_on = False)\n",
      "ax.arrow(0, nz, 0., -nz, fc='k', ec='k',lw = 2, \n",
      "         head_width=0.1, head_length=0.2,\n",
      "         length_includes_head= True, clip_on = False)\n",
      "ax.get_xaxis().set_ticks([])\n",
      "ax.get_yaxis().set_ticks([])\n",
      "ax.set_ylabel('Y',fontweight=\"bold\")\n",
      "ax.xaxis.set_label_position('top') \n",
      "ax.set_xlabel('Z',fontweight=\"bold\")\n",
      "#arrowprops=dict(arrowstyle=\"<-\", color='k')\n",
      "\n",
      "\n",
      "boundary = plt.Circle((ny*0.5,nz*0.5),radius=(ny-1)*0.5,linewidth=1,color='k',fill=False)\n",
      "fig = plt.gcf()\n",
      "fig.gca().add_artist(boundary)\n",
      "#plt.xticks(np.arange(0, nz+0.5, 1.0))\n",
      "#plt.yticks(np.arange(0, ny+0.5, 1.0))"
     ],
     "language": "python",
     "metadata": {},
     "outputs": [
      {
       "metadata": {},
       "output_type": "pyout",
       "prompt_number": 115,
       "text": [
        "<matplotlib.patches.Circle at 0x7f6d0377f0d0>"
       ]
      },
      {
       "metadata": {},
       "output_type": "display_data",
       "png": "[encoded data removed]",
       "text": [
        "<matplotlib.figure.Figure at 0x7f6d03915150>"
       ]
      }
     ],
     "prompt_number": 115
    },
    {
     "cell_type": "code",
     "collapsed": false,
     "input": [
      "ny"
     ],
     "language": "python",
     "metadata": {},
     "outputs": [
      {
       "metadata": {},
       "output_type": "pyout",
       "prompt_number": 21,
       "text": [
        "4"
       ]
      }
     ],
     "prompt_number": 21
    },
    {
     "cell_type": "code",
     "collapsed": false,
     "input": [],
     "language": "python",
     "metadata": {},
     "outputs": []
    }
   ],
   "metadata": {}
  }
 ]
}