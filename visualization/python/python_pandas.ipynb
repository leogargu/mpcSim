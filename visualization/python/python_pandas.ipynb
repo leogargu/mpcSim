{
 "metadata": {
  "name": ""
 },
 "nbformat": 3,
 "nbformat_minor": 0,
 "worksheets": [
  {
   "cells": [
    {
     "cell_type": "code",
     "collapsed": false,
     "input": [
      "import pandas as pd\n",
      "import matplotlib.pyplot as plt\n",
      "import matplotlib.image as mpimg\n",
      "from mpl_toolkits.mplot3d import Axes3D\n",
      "import numpy as np\n",
      "%matplotlib inline\n",
      "\n",
      "#get header\n",
      "fh = open('./../../DATA/velprof_SAM_averaged.dat','r')\n",
      "header=fh.readline()\n",
      "fh.close()\n",
      "\n",
      "# process dimensions of simulation box\n",
      "dimensions=header.split('\\t')[:3]\n",
      "nx=int(dimensions[0])\n",
      "ny=int(dimensions[1])\n",
      "nz=int(dimensions[2])\n",
      "\n",
      "\n",
      "#get data for the slice to be plotted\n",
      "data = pd.read_table('./../../DATA/SAMconverted_velprof_SAM_averaged.dat',sep='\\t',skiprows=1,skipinitialspace=True,header=None)"
     ],
     "language": "python",
     "metadata": {},
     "outputs": [],
     "prompt_number": 2
    },
    {
     "cell_type": "code",
     "collapsed": false,
     "input": [
      "print data.dtypes"
     ],
     "language": "python",
     "metadata": {},
     "outputs": [
      {
       "output_type": "stream",
       "stream": "stdout",
       "text": [
        "0      int64\n",
        "1    float64\n",
        "dtype: object\n"
       ]
      }
     ],
     "prompt_number": 3
    },
    {
     "cell_type": "code",
     "collapsed": false,
     "input": [
      "samples=data.values[:,0]"
     ],
     "language": "python",
     "metadata": {},
     "outputs": [],
     "prompt_number": 4
    },
    {
     "cell_type": "code",
     "collapsed": false,
     "input": [
      "averages= data.values[:,1]"
     ],
     "language": "python",
     "metadata": {},
     "outputs": [],
     "prompt_number": 5
    },
    {
     "cell_type": "code",
     "collapsed": false,
     "input": [
      "#Let's look at the samples statistics first\n",
      "print samples"
     ],
     "language": "python",
     "metadata": {},
     "outputs": [
      {
       "output_type": "stream",
       "stream": "stdout",
       "text": [
        "[   0.    0.    0.    0.    0.   31.  197.  201.  201.  200.  199.   40.\n",
        "    0.    0.    0.    0.    0.    0.    0.    0.   32.  200.  201.  201.\n",
        "  201.  201.  201.  201.  201.  201.   36.    0.    0.    0.    0.    0.\n",
        "  106.  201.  201.  201.  201.  201.  201.  201.  201.  201.  201.  201.\n",
        "  114.    0.    0.    0.   20.  201.  201.  201.  201.  201.  201.  201.\n",
        "  201.  201.  201.  201.  201.  201.   21.    0.    0.  200.  201.  201.\n",
        "  201.  201.  201.  201.  201.  201.  201.  201.  201.  201.  201.  201.\n",
        "    0.   36.  201.  201.  201.  201.  201.  201.  201.  201.  201.  201.\n",
        "  201.  201.  201.  201.  201.   38.  196.  201.  201.  201.  201.  201.\n",
        "  201.  201.  201.  201.  201.  201.  201.  201.  201.  201.  197.  201.\n",
        "  201.  201.  201.  201.  201.  201.  201.  201.  201.  201.  201.  201.\n",
        "  201.  201.  201.  201.  201.  201.  201.  201.  201.  201.  201.  201.\n",
        "  201.  201.  201.  201.  201.  201.  201.  201.  201.  201.  201.  201.\n",
        "  201.  201.  201.  201.  201.  201.  201.  201.  201.  201.  201.  201.\n",
        "  201.  201.  199.  201.  201.  201.  201.  201.  201.  201.  201.  201.\n",
        "  201.  201.  201.  201.  201.  201.  199.   51.  201.  201.  201.  201.\n",
        "  201.  201.  201.  201.  201.  201.  201.  201.  201.  201.  201.   46.\n",
        "    0.  201.  201.  201.  201.  201.  201.  201.  201.  201.  201.  201.\n",
        "  201.  201.  201.  201.    0.    0.   24.  201.  201.  201.  201.  201.\n",
        "  201.  201.  201.  201.  201.  201.  201.  201.   33.    0.    0.    0.\n",
        "  111.  201.  201.  201.  201.  201.  201.  201.  201.  201.  201.  201.\n",
        "  119.    0.    0.    0.    0.    0.   24.  201.  201.  201.  201.  201.\n",
        "  201.  201.  201.  201.   31.    0.    0.    0.    0.    0.    0.    0.\n",
        "    0.   53.  197.  201.  201.  201.  197.   34.    0.    0.    0.    0.\n",
        "    0.]\n"
       ]
      }
     ],
     "prompt_number": 6
    },
    {
     "cell_type": "code",
     "collapsed": false,
     "input": [
      "print \"Maximum number of samples used: \", int(max(samples))\n",
      "samples_aux=sorted(set(samples)) #remove duplicated entries, return a sorted list\n",
      "print \"Minimum number of samples used: \", int(samples_aux[1])"
     ],
     "language": "python",
     "metadata": {},
     "outputs": [
      {
       "output_type": "stream",
       "stream": "stdout",
       "text": [
        "Maximum number of samples used:  201\n",
        "Minimum number of samples used:  20\n"
       ]
      }
     ],
     "prompt_number": 7
    },
    {
     "cell_type": "code",
     "collapsed": false,
     "input": [
      "#prepare data for plotting\n",
      "samples=samples.reshape(ny,nz)\n",
      "averages=averages.reshape(ny,nz)"
     ],
     "language": "python",
     "metadata": {},
     "outputs": [],
     "prompt_number": 8
    },
    {
     "cell_type": "code",
     "collapsed": false,
     "input": [
      "im_samples=plt.imshow(samples,interpolation='nearest')\n",
      "plt.colorbar(im_samples, orientation='vertical')"
     ],
     "language": "python",
     "metadata": {},
     "outputs": [
      {
       "metadata": {},
       "output_type": "pyout",
       "prompt_number": 9,
       "text": [
        "<matplotlib.colorbar.Colorbar instance at 0x1079dd050>"
       ]
      },
      {
       "metadata": {},
       "output_type": "display_data",
       "png": "[encoded data removed]",
       "text": [
        "<matplotlib.figure.Figure at 0x1024744d0>"
       ]
      }
     ],
     "prompt_number": 9
    },
    {
     "cell_type": "code",
     "collapsed": false,
     "input": [
      "im_averages=plt.imshow(averages,interpolation='nearest')\n",
      "plt.colorbar(im_averages, orientation='vertical')"
     ],
     "language": "python",
     "metadata": {},
     "outputs": [
      {
       "metadata": {},
       "output_type": "pyout",
       "prompt_number": 15,
       "text": [
        "<matplotlib.colorbar.Colorbar instance at 0x107fc0488>"
       ]
      },
      {
       "metadata": {},
       "output_type": "display_data",
       "png": "[encoded data removed]",
       "text": [
        "<matplotlib.figure.Figure at 0x1079f1c50>"
       ]
      }
     ],
     "prompt_number": 15
    },
    {
     "cell_type": "code",
     "collapsed": false,
     "input": [],
     "language": "python",
     "metadata": {},
     "outputs": []
    }
   ],
   "metadata": {}
  }
 ]
}