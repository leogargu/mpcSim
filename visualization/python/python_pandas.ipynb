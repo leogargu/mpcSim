{
 "metadata": {
  "name": ""
 },
 "nbformat": 3,
 "nbformat_minor": 0,
 "worksheets": [
  {
   "cells": [
    {
     "cell_type": "code",
     "collapsed": false,
     "input": [
      "import pandas as pd\n",
      "import matplotlib.pyplot as plt\n",
      "import matplotlib.image as mpimg\n",
      "from mpl_toolkits.mplot3d import Axes3D\n",
      "import numpy as np\n",
      "%matplotlib inline\n",
      "\n",
      "#get header\n",
      "fh = open('./../../DATA/velprof_SAM_averaged.dat','r')\n",
      "header=fh.readline()\n",
      "fh.close()\n",
      "\n",
      "# process dimensions of simulation box\n",
      "dimensions=header.split('\\t')[:3]\n",
      "nx=int(dimensions[0])\n",
      "ny=int(dimensions[1])\n",
      "nz=int(dimensions[2])\n",
      "\n",
      "\n",
      "#get data for the slice to be plotted\n",
      "data = pd.read_table('./../../DATA/velprof_SAM_averaged.dat',sep='\\t',skiprows=1,skipinitialspace=True,header=None)"
     ],
     "language": "python",
     "metadata": {},
     "outputs": [],
     "prompt_number": 57
    },
    {
     "cell_type": "code",
     "collapsed": false,
     "input": [
      "print data.dtypes"
     ],
     "language": "python",
     "metadata": {},
     "outputs": [
      {
       "output_type": "stream",
       "stream": "stdout",
       "text": [
        "0      int64\n",
        "1    float64\n",
        "dtype: object\n"
       ]
      }
     ],
     "prompt_number": 58
    },
    {
     "cell_type": "code",
     "collapsed": false,
     "input": [
      "samples=data.values[:,0]"
     ],
     "language": "python",
     "metadata": {},
     "outputs": [],
     "prompt_number": 59
    },
    {
     "cell_type": "code",
     "collapsed": false,
     "input": [
      "averages= data.values[:,1]"
     ],
     "language": "python",
     "metadata": {},
     "outputs": [],
     "prompt_number": 60
    },
    {
     "cell_type": "code",
     "collapsed": false,
     "input": [
      "#Let's look at teh samples statistics first\n",
      "print samples"
     ],
     "language": "python",
     "metadata": {},
     "outputs": [
      {
       "output_type": "stream",
       "stream": "stdout",
       "text": [
        "[   0.    0.    0.    0.    0.   31.  197.  121.  114.  123.  114.  112.\n",
        "  109.  121.  109.  115.  115.  102.  107.  111.  107.  115.  101.  112.\n",
        "   95.   97.   88.   75.   73.   54.   40.   36.   27.   30.   28.   22.\n",
        "   38.   53.   60.   82.   96.   87.  110.   91.  103.   97.  122.  109.\n",
        "  105.  116.  101.  110.  101.  105.   95.  101.  110.  107.  104.  102.\n",
        "  114.  106.   99.   99.  107.  110.  105.   97.  109.  104.  107.  110.\n",
        "  114.  101.   94.  100.  114.  111.  109.   94.  119.  114.  105.  107.\n",
        "   95.  102.  111.  108.  105.   99.   99.  103.  104.  110.  100.   96.\n",
        "  105.  116.  107.  113.  103.  102.  107.   98.  104.  106.  107.  109.\n",
        "  101.  107.   91.  110.  106.   95.  111.  102.   95.   97.  103.   99.\n",
        "   95.   92.   94.   80.   90.   84.   88.   88.   93.   82.   81.   85.\n",
        "   83.   81.   87.   88.   88.   90.   82.   96.   93.  108.  111.   95.\n",
        "   98.   99.  104.   98.  106.   95.  101.   95.  100.  103.  120.  117.\n",
        "  109.  103.  108.  109.   82.  116.  118.  101.  104.  110.  105.  101.\n",
        "   99.   95.  105.  121.  110.  116.  107.   93.  101.  111.  110.  108.\n",
        "  116.  118.   96.  118.  108.  112.  117.  104.   99.  107.  114.  111.\n",
        "  110.  111.  107.   90.  109.   95.  106.  110.  100.   98.  100.  108.\n",
        "  112.  117.   96.   95.  115.  111.  106.  109.   95.  105.  102.  114.\n",
        "  108.  109.  119.  112.  102.  103.  100.  118.  109.  105.   99.  103.\n",
        "  114.  104.  109.  101.  111.  106.   90.  100.   99.  112.   98.   96.\n",
        "  109.   97.  100.  101.   88.   95.  101.   98.   95.   98.  100.  100.\n",
        "  101.   94.   96.  106.  109.  105.   99.   93.  104.   90.   87.  102.\n",
        "  102.  109.  105.   93.  100.  100.   94.   99.  100.  104.  107.  113.\n",
        "   99.  100.   99.  107.  100.   98.  102.  115.   97.  106.  104.  102.\n",
        "  111.]\n"
       ]
      }
     ],
     "prompt_number": 61
    },
    {
     "cell_type": "code",
     "collapsed": false,
     "input": [
      "print \"Maximum number of samples used: \", int(max(samples))\n",
      "samples_aux=sorted(set(samples)) #remove duplicated entries, return a sorted list\n",
      "print \"Minimum number of samples used: \", int(samples_aux[1])"
     ],
     "language": "python",
     "metadata": {},
     "outputs": [
      {
       "output_type": "stream",
       "stream": "stdout",
       "text": [
        "Maximum number of samples used:  197\n",
        "Minimum number of samples used:  22\n"
       ]
      }
     ],
     "prompt_number": 62
    },
    {
     "cell_type": "code",
     "collapsed": false,
     "input": [
      "#prepare data for plotting\n",
      "samples=samples.reshape(ny,nz)\n",
      "averages=averages.reshape(ny,nz)"
     ],
     "language": "python",
     "metadata": {},
     "outputs": [],
     "prompt_number": 63
    },
    {
     "cell_type": "code",
     "collapsed": false,
     "input": [
      "im_samples=plt.imshow(samples,interpolation='nearest')\n",
      "plt.colorbar(im_samples, orientation='vertical')"
     ],
     "language": "python",
     "metadata": {},
     "outputs": [
      {
       "metadata": {},
       "output_type": "pyout",
       "prompt_number": 54,
       "text": [
        "<matplotlib.colorbar.Colorbar instance at 0x107ccdbd8>"
       ]
      },
      {
       "metadata": {},
       "output_type": "display_data",
       "png": "[encoded data removed]",
       "text": [
        "<matplotlib.figure.Figure at 0x107c52090>"
       ]
      }
     ],
     "prompt_number": 54
    },
    {
     "cell_type": "code",
     "collapsed": false,
     "input": [
      "im_averages=plt.imshow(averages,interpolation='nearest')\n",
      "plt.colorbar(im_averages, orientation='vertical')"
     ],
     "language": "python",
     "metadata": {},
     "outputs": [
      {
       "metadata": {},
       "output_type": "pyout",
       "prompt_number": 65,
       "text": [
        "<matplotlib.colorbar.Colorbar instance at 0x108353758>"
       ]
      },
      {
       "metadata": {},
       "output_type": "display_data",
       "png": "[encoded data removed]",
       "text": [
        "<matplotlib.figure.Figure at 0x108329590>"
       ]
      }
     ],
     "prompt_number": 65
    },
    {
     "cell_type": "code",
     "collapsed": false,
     "input": [],
     "language": "python",
     "metadata": {},
     "outputs": []
    }
   ],
   "metadata": {}
  }
 ]
}