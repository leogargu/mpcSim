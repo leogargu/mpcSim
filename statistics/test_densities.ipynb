{
 "metadata": {
  "name": "",
  "signature": "sha256:3a1888a6923044479048a4e39c1c3dd0853d3c2c811da6b8bf4dcc4daeb83d3c"
 },
 "nbformat": 3,
 "nbformat_minor": 0,
 "worksheets": [
  {
   "cells": [
    {
     "cell_type": "code",
     "collapsed": false,
     "input": [
      "import matplotlib.pyplot as plt\n",
      "import matplotlib\n",
      "import numpy as np\n",
      "import pandas as pd\n",
      "%matplotlib inline\n",
      "import radial_helpers"
     ],
     "language": "python",
     "metadata": {},
     "outputs": [],
     "prompt_number": 1
    },
    {
     "cell_type": "code",
     "collapsed": false,
     "input": [
      "data = pd.read_table('./../experiments/velprof_slice2_CAM_averaged.dat',sep='\\t',skiprows=1,skipinitialspace=True,header=None);"
     ],
     "language": "python",
     "metadata": {},
     "outputs": [],
     "prompt_number": 2
    },
    {
     "cell_type": "code",
     "collapsed": false,
     "input": [
      "ny=20;\n",
      "a=1.0;\n",
      "nz=ny;\n",
      "L=ny*a;\n",
      "L_half=0.5*L;\n",
      "R=(L-a)*0.5;"
     ],
     "language": "python",
     "metadata": {},
     "outputs": [],
     "prompt_number": 3
    },
    {
     "cell_type": "code",
     "collapsed": false,
     "input": [
      "num_particles=data.values[:,0]"
     ],
     "language": "python",
     "metadata": {},
     "outputs": [],
     "prompt_number": 4
    },
    {
     "cell_type": "code",
     "collapsed": false,
     "input": [
      "volumes=radial_helpers.find_seg_quant(a,L,ny,nz,R,'volume')\n",
      "#print volumes\n",
      "particle_densities=np.divide(num_particles, volumes)\n",
      "p_density=particle_densities.reshape(ny,nz)"
     ],
     "language": "python",
     "metadata": {},
     "outputs": [],
     "prompt_number": 9
    },
    {
     "cell_type": "code",
     "collapsed": false,
     "input": [
      "my_cmap=plt.get_cmap('nipy_spectral') #Also interesting: jet, spectral, rainbow \n",
      "density_plot=plt.imshow(p_density,cmap=my_cmap,interpolation='nearest',extent=[0,nz,0,ny])\n",
      "plt.colorbar(density_plot, orientation='vertical')"
     ],
     "language": "python",
     "metadata": {},
     "outputs": [
      {
       "metadata": {},
       "output_type": "pyout",
       "prompt_number": 28,
       "text": [
        "<matplotlib.colorbar.Colorbar instance at 0x7fb39acd9f80>"
       ]
      },
      {
       "metadata": {},
       "output_type": "display_data",
       "png": "[encoded data removed]",
       "text": [
        "<matplotlib.figure.Figure at 0x7fb39bd4b750>"
       ]
      }
     ],
     "prompt_number": 28
    },
    {
     "cell_type": "code",
     "collapsed": false,
     "input": [
      "19*20"
     ],
     "language": "python",
     "metadata": {},
     "outputs": [
      {
       "metadata": {},
       "output_type": "pyout",
       "prompt_number": 40,
       "text": [
        "380"
       ]
      }
     ],
     "prompt_number": 40
    },
    {
     "cell_type": "code",
     "collapsed": false,
     "input": [
      "data.values[380:,0]"
     ],
     "language": "python",
     "metadata": {},
     "outputs": [
      {
       "metadata": {},
       "output_type": "pyout",
       "prompt_number": 41,
       "text": [
        "array([  0.00000000e+00,   0.00000000e+00,   0.00000000e+00,\n",
        "         0.00000000e+00,   0.00000000e+00,   0.00000000e+00,\n",
        "         4.00000000e+00,   1.82000000e+03,   4.06000000e+03,\n",
        "         5.21600000e+03,   5.21400000e+03,   4.03000000e+03,\n",
        "         1.83700000e+03,   3.00000000e+00,   0.00000000e+00,\n",
        "         0.00000000e+00,   0.00000000e+00,   0.00000000e+00,\n",
        "         0.00000000e+00,   0.00000000e+00])"
       ]
      }
     ],
     "prompt_number": 41
    },
    {
     "cell_type": "code",
     "collapsed": false,
     "input": [
      "volumes[380:]"
     ],
     "language": "python",
     "metadata": {},
     "outputs": [
      {
       "metadata": {},
       "output_type": "pyout",
       "prompt_number": 42,
       "text": [
        "array([  1.00000000e+00,   1.00000000e+00,   1.00000000e+00,\n",
        "         1.00000000e+00,   1.00000000e+00,   1.00000000e+00,\n",
        "         2.87877864e-04,   1.60263928e-01,   3.76274080e-01,\n",
        "         4.82426866e-01,   4.82426866e-01,   3.76274080e-01,\n",
        "         1.60263928e-01,   2.87877864e-04,   1.00000000e+00,\n",
        "         1.00000000e+00,   1.00000000e+00,   1.00000000e+00,\n",
        "         1.00000000e+00,   1.00000000e+00])"
       ]
      }
     ],
     "prompt_number": 42
    },
    {
     "cell_type": "code",
     "collapsed": false,
     "input": [
      "3/2.8e-4"
     ],
     "language": "python",
     "metadata": {},
     "outputs": [
      {
       "metadata": {},
       "output_type": "pyout",
       "prompt_number": 44,
       "text": [
        "10714.285714285716"
       ]
      }
     ],
     "prompt_number": 44
    },
    {
     "cell_type": "code",
     "collapsed": false,
     "input": [],
     "language": "python",
     "metadata": {},
     "outputs": []
    }
   ],
   "metadata": {}
  }
 ]
}