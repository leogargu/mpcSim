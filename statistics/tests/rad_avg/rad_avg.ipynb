{
 "metadata": {
  "name": ""
 },
 "nbformat": 3,
 "nbformat_minor": 0,
 "worksheets": [
  {
   "cells": [
    {
     "cell_type": "code",
     "collapsed": false,
     "input": [
      "import pandas as pd\n",
      "import matplotlib.pyplot as plt\n",
      "import matplotlib.image as mpimg\n",
      "from mpl_toolkits.mplot3d import Axes3D\n",
      "import numpy as np\n",
      "import math\n",
      "import sys\n",
      "%matplotlib inline\n",
      "\n",
      "\n",
      "#get header\n",
      "fh = open('./CAMtest.dat','r')\n",
      "header=fh.readline()\n",
      "fh.close()\n",
      "\n",
      "# process dimensions of simulation box\n",
      "dimensions=header.split('\\t')[:3]\n",
      "nx=int(dimensions[0])\n",
      "ny=int(dimensions[1])\n",
      "nz=int(dimensions[2])\n",
      "\n",
      "input_file='./CAMtest.dat';\n",
      "\n",
      "#get data for the slice to be plotted\n",
      "data = pd.read_table(input_file,sep='\\t',skiprows=1,skipinitialspace=True,header=None);"
     ],
     "language": "python",
     "metadata": {},
     "outputs": [],
     "prompt_number": 66
    },
    {
     "cell_type": "code",
     "collapsed": false,
     "input": [
      "def sym_cells(ny,nz,cell_idx):\n",
      "    if nz%2!=0 or ny%2!=0 :\n",
      "        print \"nz, ny must be even. Aborting...\\n\";\n",
      "        sys.exit(1);\n",
      "    nz_half=nz/2;\n",
      "    alpha=2*(cell_idx%nz_half)+1;\n",
      "    mu=ny*nz_half;\n",
      "    \n",
      "    return [cell_idx-alpha,cell_idx,2*mu-cell_idx-1,alpha+2*mu-cell_idx-1]"
     ],
     "language": "python",
     "metadata": {},
     "outputs": [],
     "prompt_number": 68
    },
    {
     "cell_type": "code",
     "collapsed": false,
     "input": [
      "a=1.0;\n",
      "def local_cellpos2idx(ny,nz,point):\n",
      "    ainv=1.0/a;\n",
      "    coords=[int(point[0]*ainv),int(point[1]*ainv)];\n",
      "    return coords[0]*nz+coords[1]\n",
      "    "
     ],
     "language": "python",
     "metadata": {},
     "outputs": [],
     "prompt_number": 69
    },
    {
     "cell_type": "code",
     "collapsed": false,
     "input": [
      "local_cellpos2idx(6,6,[0.0,1.2])"
     ],
     "language": "python",
     "metadata": {},
     "outputs": [
      {
       "metadata": {},
       "output_type": "pyout",
       "prompt_number": 70,
       "text": [
        "1"
       ]
      }
     ],
     "prompt_number": 70
    },
    {
     "cell_type": "code",
     "collapsed": false,
     "input": [
      "def arc_length(r,p1,p2):\n",
      "    #check that these points are on the circunference?\n",
      "    norm=math.sqrt((p1[0]-p2[0])*(p1[0]-p2[0])+(p1[1]-p2[1])*(p1[1]-p2[1]));\n",
      "    rinv=1.0/r;\n",
      "    return 2*r*math.asin(0.5*norm*rinv)"
     ],
     "language": "python",
     "metadata": {},
     "outputs": [],
     "prompt_number": 71
    },
    {
     "cell_type": "code",
     "collapsed": false,
     "input": [
      "#There is A LOT of repetition in this code: clean it up.\n",
      "a=1.0;\n",
      "def find_weights(ny,nz,L,radius):\n",
      "    if nz%2!=0 or ny%2!=0 or L%2!=0 :\n",
      "        print \"nz, ny must be even. Aborting...\\n\";\n",
      "        sys.exit(1);\n",
      "        \n",
      "    weights=np.empty(ny*nz); \n",
      "    weights.fill(0);    \n",
      "    L_half=L/2;    \n",
      "    nz_half=nz/2;\n",
      "    p1=[L_half-radius,L_half]; #starting point, rightmost cell in quadrant 1\n",
      "    plast=[L_half,L_half+radius];\n",
      "    cell_last=local_cellpos2idx(ny,nz,[plast[0]-0.1*a,plast[1]-0.1*a]);\n",
      "    cell_idx= local_cellpos2idx(ny,nz,p1);\n",
      "    \n",
      "    h=L_half+a;\n",
      "    v=int(p1[0]/a)+a;\n",
      "    \n",
      "    points=[p1];\n",
      "    \n",
      "    while cell_idx != cell_last:\n",
      "        print cell_idx\n",
      "        crossing_left=0;\n",
      "        #exiting current cell from above?\n",
      "        yaux=radius*radius-(h-L_half)*(h-L_half);\n",
      "        if yaux>=0:\n",
      "            y= L_half - math.sqrt( yaux ) ;\n",
      "            if abs(y-v)==0:\n",
      "                #print \"diagonal crossing!\\n\"\n",
      "                p2=[v,h];\n",
      "                weight=arc_length(radius,p1,p2)/(2*radius*math.pi);\n",
      "                cells=sym_cells(ny,nz,cell_idx);\n",
      "                for cell in cells:\n",
      "                    weights[cell]=weight;\n",
      "                p1=p2;\n",
      "                cell_idx=cell_idx+nz+1;\n",
      "                h=h+a;\n",
      "                v=v+a;\n",
      "                points.append(p1);\n",
      "                continue;\n",
      "                #sys.exit(1);\n",
      "        \n",
      "            if y<v and y>=(v-a):#then I am exiting the current cell from above\n",
      "                p2=[y,h];\n",
      "                #calculate the arc length between p1 and p2\n",
      "                weight=arc_length(radius,p1,p2)/(2*radius*math.pi);\n",
      "                cells=sym_cells(ny,nz,cell_idx);\n",
      "                for cell in cells:\n",
      "                    weights[cell]=weight;\n",
      "                cell_idx=cell_idx+1;\n",
      "                p1=p2; #python dangerous?\n",
      "                h=h+a;\n",
      "            else:\n",
      "                crossing_left=1;\n",
      "        else:\n",
      "            crossing_left=1;\n",
      "        \n",
      "        if crossing_left: #I am exiting the current cell from the left\n",
      "            zaux= radius*radius - (v-L_half)*(v-L_half)\n",
      "            if zaux>=0:\n",
      "                z= L_half + math.sqrt( zaux );\n",
      "                if abs(z-h)==0:\n",
      "                    #print \"diagonal crossing! (modify algorithm). Aborting...\\n\"\n",
      "                    p2=[v,h];\n",
      "                    weight=arc_length(radius,p1,p2)/(2*radius*math.pi);\n",
      "                    cells=sym_cells(ny,nz,cell_idx);\n",
      "                    for cell in cells:\n",
      "                        weights[cell]=weight;\n",
      "                    p1=p2;\n",
      "                    cell_idx=cell_idx+nz+1;\n",
      "                    h=h+a;\n",
      "                    v=v+a;\n",
      "                    points.append(p1);\n",
      "                    continue;\n",
      "                    #sys.exit(1);\n",
      "                    \n",
      "                if z<=h and z>(h-a):\n",
      "                    p2=[v,z];\n",
      "                    #calculate arc length between p1 and p2\n",
      "                    weight=arc_length(radius,p1,p2)/(2*radius*math.pi);\n",
      "                    cells=sym_cells(ny,nz,cell_idx);\n",
      "                    for cell in cells:\n",
      "                        weights[cell]=weight;\n",
      "                    cell_idx=cell_idx+nz;\n",
      "                    p1=p2;\n",
      "                    v=v+a;\n",
      "                else:\n",
      "                    print \"Error. Attempted to cross left but couldn't. Aborting...\\n\"\n",
      "                    sys.exit(1);\n",
      "            else:\n",
      "                print \"Error. Not knowing where to cross. Aborting...\\n\"\n",
      "                sys.exit(1);\n",
      "        points.append(p1);\n",
      "        \n",
      "    #add the arc in the last cell:\n",
      "    weight=arc_length(radius,p1,plast)/(2*radius*math.pi);\n",
      "    cells=sym_cells(ny,nz,cell_idx);\n",
      "    for cell in cells:\n",
      "        weights[cell]=weight;\n",
      "    points.append(plast);\n",
      "        \n",
      "    print cell_idx\n",
      "    return weights,points"
     ],
     "language": "python",
     "metadata": {},
     "outputs": [],
     "prompt_number": 158
    },
    {
     "cell_type": "code",
     "collapsed": false,
     "input": [
      "warray,mypoints=find_weights(ny,nz,ny,5*a)"
     ],
     "language": "python",
     "metadata": {},
     "outputs": [
      {
       "output_type": "stream",
       "stream": "stdout",
       "text": [
        "110\n",
        "111\n",
        "112\n",
        "133\n",
        "154\n",
        "174\n",
        "194\n"
       ]
      }
     ],
     "prompt_number": 159
    },
    {
     "cell_type": "code",
     "collapsed": false,
     "input": [
      "warray.sum() "
     ],
     "language": "python",
     "metadata": {},
     "outputs": [
      {
       "metadata": {},
       "output_type": "pyout",
       "prompt_number": 160,
       "text": [
        "0.99999999999999956"
       ]
      }
     ],
     "prompt_number": 160
    },
    {
     "cell_type": "code",
     "collapsed": false,
     "input": [
      "np.dot(np.nan_to_num(data.values[:,1]),warray)"
     ],
     "language": "python",
     "metadata": {},
     "outputs": [
      {
       "metadata": {},
       "output_type": "pyout",
       "prompt_number": 161,
       "text": [
        "0.25190716147125841"
       ]
      }
     ],
     "prompt_number": 161
    },
    {
     "cell_type": "code",
     "collapsed": false,
     "input": [
      "av=0;\n",
      "for i in range(len(warray)):\n",
      "    if warray[i] != 0:\n",
      "        av =av + data.values[i,1]*warray[i]\n",
      "print av"
     ],
     "language": "python",
     "metadata": {},
     "outputs": [
      {
       "output_type": "stream",
       "stream": "stdout",
       "text": [
        "0.251907161471\n"
       ]
      }
     ],
     "prompt_number": 162
    },
    {
     "cell_type": "code",
     "collapsed": false,
     "input": [
      "print mypoints"
     ],
     "language": "python",
     "metadata": {},
     "outputs": [
      {
       "output_type": "stream",
       "stream": "stdout",
       "text": [
        "[[5.0, 10], [5.101020514433644, 11.0], [5.41742430504416, 12.0], [6.0, 13.0], [7.0, 14.0], [8.0, 14.582575694955839], [9.0, 14.898979485566356], [10, 15.0]]\n"
       ]
      }
     ],
     "prompt_number": 163
    },
    {
     "cell_type": "code",
     "collapsed": false,
     "input": [],
     "language": "python",
     "metadata": {},
     "outputs": []
    }
   ],
   "metadata": {}
  }
 ]
}