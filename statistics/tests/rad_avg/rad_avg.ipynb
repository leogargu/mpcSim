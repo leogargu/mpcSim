{
 "metadata": {
  "name": ""
 },
 "nbformat": 3,
 "nbformat_minor": 0,
 "worksheets": [
  {
   "cells": [
    {
     "cell_type": "code",
     "collapsed": false,
     "input": [
      "import pandas as pd\n",
      "import matplotlib.pyplot as plt\n",
      "import matplotlib.image as mpimg\n",
      "from mpl_toolkits.mplot3d import Axes3D\n",
      "import numpy as np\n",
      "import math\n",
      "import sys\n",
      "%matplotlib inline\n",
      "\n",
      "\n",
      "#get header\n",
      "fh = open('./CAMtest.dat','r')\n",
      "header=fh.readline()\n",
      "fh.close()\n",
      "\n",
      "# process dimensions of simulation box\n",
      "dimensions=header.split('\\t')[:3]\n",
      "nx=int(dimensions[0])\n",
      "ny=int(dimensions[1])\n",
      "nz=int(dimensions[2])\n",
      "\n",
      "input_file='./CAMtest.dat';\n",
      "\n",
      "#get data for the slice to be plotted\n",
      "data = pd.read_table(input_file,sep='\\t',skiprows=1,skipinitialspace=True,header=None);"
     ],
     "language": "python",
     "metadata": {},
     "outputs": [],
     "prompt_number": 18
    },
    {
     "cell_type": "code",
     "collapsed": false,
     "input": [
      "def sym_cells(ny,nz,cell_idx):\n",
      "    if nz%2!=0 or ny%2!=0 :\n",
      "        print \"nz, ny must be even. Aborting...\\n\";\n",
      "        sys.exit(1);\n",
      "    nz_half=nz/2;\n",
      "    alpha=2*(cell_idx%nz_half)+1;\n",
      "    mu=ny*nz_half;\n",
      "    \n",
      "    return [cell_idx-alpha,cell_idx,2*mu-cell_idx-1,alpha+2*mu-cell_idx-1]"
     ],
     "language": "python",
     "metadata": {},
     "outputs": [],
     "prompt_number": 19
    },
    {
     "cell_type": "code",
     "collapsed": false,
     "input": [
      "sym_cells(20,20,19)"
     ],
     "language": "python",
     "metadata": {},
     "outputs": [
      {
       "metadata": {},
       "output_type": "pyout",
       "prompt_number": 20,
       "text": [
        "[0, 19, 380, 399]"
       ]
      }
     ],
     "prompt_number": 20
    },
    {
     "cell_type": "code",
     "collapsed": false,
     "input": [
      "a=1.0;\n",
      "def local_cellpos2idx(ny,nz,point):\n",
      "    ainv=1.0/a;\n",
      "    coords=[int(point[0]*ainv),int(point[1]*ainv)];\n",
      "    return coords[0]*nz+coords[1]\n",
      "    "
     ],
     "language": "python",
     "metadata": {},
     "outputs": [],
     "prompt_number": 21
    },
    {
     "cell_type": "code",
     "collapsed": false,
     "input": [
      "local_cellpos2idx(6,6,[0.0,1.2])"
     ],
     "language": "python",
     "metadata": {},
     "outputs": [
      {
       "metadata": {},
       "output_type": "pyout",
       "prompt_number": 22,
       "text": [
        "1"
       ]
      }
     ],
     "prompt_number": 22
    },
    {
     "cell_type": "code",
     "collapsed": false,
     "input": [
      "def arc_length(r,p1,p2):\n",
      "    #check that these points are on the circunference?\n",
      "    norm=math.sqrt((p1[0]-p2[0])*(p1[0]-p2[0])+(p1[1]-p2[1])*(p1[1]-p2[1]));\n",
      "    rinv=1.0/r;\n",
      "    return 2*r*math.asin(0.5*norm*rinv)"
     ],
     "language": "python",
     "metadata": {},
     "outputs": [],
     "prompt_number": 23
    },
    {
     "cell_type": "code",
     "collapsed": false,
     "input": [
      "#There is A LOT of repetition in this code: clean it up.\n",
      "a=1.0;\n",
      "def find_weights(ny,nz,L,radius):\n",
      "    if nz%2!=0 or ny%2!=0 or L%2!=0 :\n",
      "        print \"nz, ny must be even. Aborting...\\n\";\n",
      "        sys.exit(1);\n",
      "        \n",
      "    weights=np.empty(ny*nz); \n",
      "    weights.fill(0);    \n",
      "    L_half=L/2;    \n",
      "    nz_half=nz/2;\n",
      "    p1=[L_half-radius,L_half]; #starting point, rightmost cell in quadrant 1\n",
      "    plast=[L_half,L_half+radius];\n",
      "    cell_last=local_cellpos2idx(ny,nz,[plast[0]-0.1*a,plast[1]-0.1*a]);\n",
      "    cell_idx= local_cellpos2idx(ny,nz,p1);\n",
      "    \n",
      "    h=L_half+a;\n",
      "    v=int(p1[0]/a)+a;\n",
      "    \n",
      "    points=[p1];\n",
      "    \n",
      "    while cell_idx != cell_last:\n",
      "        print cell_idx\n",
      "        crossing_left=0;\n",
      "        #exiting current cell from above?\n",
      "        yaux=radius*radius-(h-L_half)*(h-L_half);\n",
      "        if yaux>=0:\n",
      "            y= L_half - math.sqrt( yaux ) ;\n",
      "            if abs(y-v)==0:\n",
      "                #print \"diagonal crossing!\\n\"\n",
      "                p2=[v,h];\n",
      "                weight=arc_length(radius,p1,p2)/(2*radius*math.pi);\n",
      "                cells=sym_cells(ny,nz,cell_idx);\n",
      "                for cell in cells:\n",
      "                    weights[cell]=weight;\n",
      "                p1=p2;\n",
      "                cell_idx=cell_idx+nz+1;\n",
      "                h=h+a;\n",
      "                v=v+a;\n",
      "                points.append(p1);\n",
      "                continue;\n",
      "                #sys.exit(1);\n",
      "        \n",
      "            if y<v and y>=(v-a):#then I am exiting the current cell from above\n",
      "                p2=[y,h];\n",
      "                #calculate the arc length between p1 and p2\n",
      "                weight=arc_length(radius,p1,p2)/(2*radius*math.pi);\n",
      "                cells=sym_cells(ny,nz,cell_idx);\n",
      "                for cell in cells:\n",
      "                    weights[cell]=weight;\n",
      "                cell_idx=cell_idx+1;\n",
      "                p1=p2; #python dangerous?\n",
      "                h=h+a;\n",
      "            else:\n",
      "                crossing_left=1;\n",
      "        else:\n",
      "            crossing_left=1;\n",
      "        \n",
      "        if crossing_left: #I am exiting the current cell from the left\n",
      "            zaux= radius*radius - (v-L_half)*(v-L_half)\n",
      "            if zaux>=0:\n",
      "                z= L_half + math.sqrt( zaux );\n",
      "                if abs(z-h)==0:\n",
      "                    #print \"diagonal crossing! (modify algorithm). Aborting...\\n\"\n",
      "                    p2=[v,h];\n",
      "                    weight=arc_length(radius,p1,p2)/(2*radius*math.pi);\n",
      "                    cells=sym_cells(ny,nz,cell_idx);\n",
      "                    for cell in cells:\n",
      "                        weights[cell]=weight;\n",
      "                    p1=p2;\n",
      "                    cell_idx=cell_idx+nz+1;\n",
      "                    h=h+a;\n",
      "                    v=v+a;\n",
      "                    points.append(p1);\n",
      "                    continue;\n",
      "                    #sys.exit(1);\n",
      "                    \n",
      "                if z<=h and z>(h-a):\n",
      "                    p2=[v,z];\n",
      "                    #calculate arc length between p1 and p2\n",
      "                    weight=arc_length(radius,p1,p2)/(2*radius*math.pi);\n",
      "                    cells=sym_cells(ny,nz,cell_idx);\n",
      "                    for cell in cells:\n",
      "                        weights[cell]=weight;\n",
      "                    cell_idx=cell_idx+nz;\n",
      "                    p1=p2;\n",
      "                    v=v+a;\n",
      "                else:\n",
      "                    print \"Error. Attempted to cross left but couldn't. Aborting...\\n\"\n",
      "                    sys.exit(1);\n",
      "            else:\n",
      "                print \"Error. Not knowing where to cross. Aborting...\\n\"\n",
      "                sys.exit(1);\n",
      "        points.append(p1);\n",
      "        \n",
      "    #add the arc in the last cell:\n",
      "    weight=arc_length(radius,p1,plast)/(2*radius*math.pi);\n",
      "    cells=sym_cells(ny,nz,cell_idx);\n",
      "    for cell in cells:\n",
      "        weights[cell]=weight;\n",
      "    points.append(plast);\n",
      "        \n",
      "    #print cell_idx\n",
      "    return weights,points"
     ],
     "language": "python",
     "metadata": {},
     "outputs": [],
     "prompt_number": 126
    },
    {
     "cell_type": "code",
     "collapsed": false,
     "input": [
      "warray,mypoints=find_weights(ny,nz,ny,0.5*a)"
     ],
     "language": "python",
     "metadata": {},
     "outputs": [],
     "prompt_number": 127
    },
    {
     "cell_type": "code",
     "collapsed": false,
     "input": [
      "print mypoints"
     ],
     "language": "python",
     "metadata": {},
     "outputs": [
      {
       "output_type": "stream",
       "stream": "stdout",
       "text": [
        "[[9.5, 10], [10, 10.5]]\n"
       ]
      }
     ],
     "prompt_number": 129
    },
    {
     "cell_type": "code",
     "collapsed": false,
     "input": [
      "np.dot(np.nan_to_num(data.values[:,1]),warray)"
     ],
     "language": "python",
     "metadata": {},
     "outputs": [
      {
       "metadata": {},
       "output_type": "pyout",
       "prompt_number": 27,
       "text": [
        "0.063985069172471487"
       ]
      }
     ],
     "prompt_number": 27
    },
    {
     "cell_type": "code",
     "collapsed": false,
     "input": [
      "av=0;\n",
      "for i in range(len(warray)):\n",
      "    if warray[i] != 0:\n",
      "        av =av + data.values[i,1]*warray[i]\n",
      "print av"
     ],
     "language": "python",
     "metadata": {},
     "outputs": [
      {
       "output_type": "stream",
       "stream": "stdout",
       "text": [
        "0.0639850691725\n"
       ]
      }
     ],
     "prompt_number": 28
    },
    {
     "cell_type": "code",
     "collapsed": false,
     "input": [
      "print mypoints"
     ],
     "language": "python",
     "metadata": {},
     "outputs": [
      {
       "output_type": "stream",
       "stream": "stdout",
       "text": [
        "[[0.5, 10], [0.5527781861544074, 11.0], [0.7129121894966453, 12.0], [0.986121811340027, 13.0], [1.0, 13.04138126514911], [1.383156030192957, 14.0], [1.9222527892982448, 15.0], [2.0, 15.123475382979798], [2.6345400686718827, 16.0], [3.0, 16.422616289332566], [3.5773837106674353, 17.0], [4.0, 17.365459931328118], [4.876524617020201, 18.0], [5.0, 18.077747210701755], [6.0, 18.616843969807043], [6.958618734850891, 19.0], [7.0, 19.013878188659973], [8.0, 19.287087810503355], [9.0, 19.447221813845594], [10, 19.5]]\n"
       ]
      }
     ],
     "prompt_number": 29
    },
    {
     "cell_type": "code",
     "collapsed": false,
     "input": [
      "num_points=20\n",
      "app_points = np.empty(num_points); \n",
      "app_points.fill(0);\n",
      "xVal = np.empty(num_points); \n",
      "xVal.fill(0);\n",
      "\n",
      "R = (ny-a)*0.5"
     ],
     "language": "python",
     "metadata": {},
     "outputs": [],
     "prompt_number": 117
    },
    {
     "cell_type": "code",
     "collapsed": false,
     "input": [
      "for i in range(0,num_points):\n",
      "    r = a + i*(R-a)/float(num_points-1);\n",
      "    xVal[i]=r;\n",
      "    warray=find_weights(ny,nz,ny,r)\n",
      "    av=np.average(np.nan_to_num(data.values[:,1]),weights=warray)\n",
      "    app_points[i]=av"
     ],
     "language": "python",
     "metadata": {},
     "outputs": [
      {
       "output_type": "stream",
       "stream": "stdout",
       "text": [
        "170\n",
        "171\n",
        "170\n",
        "171\n",
        "150\n",
        "151\n",
        "171\n",
        "172\n",
        "150\n",
        "151\n",
        "171\n",
        "172\n",
        "130\n",
        "131\n",
        "151\n",
        "152\n",
        "172\n",
        "173\n",
        "130\n",
        "131\n",
        "132\n",
        "152\n",
        "153\n",
        "173\n",
        "110\n",
        "111\n",
        "131\n",
        "132\n",
        "152\n",
        "153\n",
        "173\n",
        "174\n",
        "110\n",
        "111\n",
        "112\n",
        "132\n",
        "133\n",
        "153\n",
        "154\n",
        "174\n",
        "90\n",
        "110\n",
        "111\n",
        "112\n",
        "113\n",
        "133\n",
        "134\n",
        "154\n",
        "174\n",
        "90\n",
        "91\n",
        "92\n",
        "112\n",
        "113\n",
        "133\n",
        "134\n",
        "154\n",
        "155\n",
        "175\n",
        "90\n",
        "91\n",
        "92\n",
        "93\n",
        "113\n",
        "114\n",
        "134\n",
        "135\n",
        "155\n",
        "175\n",
        "70\n",
        "71\n",
        "72\n",
        "92\n",
        "93\n",
        "113\n",
        "114\n",
        "134\n",
        "135\n",
        "155\n",
        "156\n",
        "176\n",
        "70\n",
        "71\n",
        "72\n",
        "73\n",
        "93\n",
        "94\n",
        "114\n",
        "115\n",
        "135\n",
        "136\n",
        "156\n",
        "176\n",
        "50\n",
        "51\n",
        "71\n",
        "72\n",
        "73\n",
        "74\n",
        "94\n",
        "95\n",
        "115\n",
        "116\n",
        "136\n",
        "156\n",
        "176\n",
        "177\n",
        "50\n",
        "51\n",
        "52\n",
        "53\n",
        "73\n",
        "74\n",
        "94\n",
        "95\n",
        "115\n",
        "116\n",
        "136\n",
        "137\n",
        "157\n",
        "177\n",
        "30\n",
        "31\n",
        "51\n",
        "52\n",
        "53\n",
        "54\n",
        "74\n",
        "75\n",
        "95\n",
        "96\n",
        "116\n",
        "117\n",
        "137\n",
        "157\n",
        "177\n",
        "178\n",
        "30\n",
        "31\n",
        "32\n",
        "33\n",
        "53\n",
        "54\n",
        "55\n",
        "75\n",
        "76\n",
        "96\n",
        "97\n",
        "117\n",
        "137\n",
        "138\n",
        "158\n",
        "178\n",
        "10\n",
        "30\n",
        "31\n",
        "32\n",
        "33\n",
        "34\n",
        "54\n",
        "55\n",
        "75\n",
        "76\n",
        "96\n",
        "97\n",
        "117\n",
        "118\n",
        "138\n",
        "158\n",
        "178\n",
        "10\n",
        "11\n",
        "12\n",
        "13\n",
        "33\n",
        "34\n",
        "35\n",
        "55\n",
        "56\n",
        "76\n",
        "77\n",
        "97\n",
        "98\n",
        "118\n",
        "138\n",
        "139\n",
        "159\n",
        "179\n"
       ]
      }
     ],
     "prompt_number": 120
    },
    {
     "cell_type": "code",
     "collapsed": false,
     "input": [
      "Vmax=np.nanmax(data.values[:,1])"
     ],
     "language": "python",
     "metadata": {},
     "outputs": [],
     "prompt_number": 112
    },
    {
     "cell_type": "code",
     "collapsed": false,
     "input": [
      "print Vmax"
     ],
     "language": "python",
     "metadata": {},
     "outputs": [
      {
       "output_type": "stream",
       "stream": "stdout",
       "text": [
        "0.358717\n"
       ]
      }
     ],
     "prompt_number": 113
    },
    {
     "cell_type": "code",
     "collapsed": false,
     "input": [
      "x=np.linspace(-R,R)\n",
      "y=Vmax*(1-(x/R)*(x/R))\n",
      "plt.plot(x, y)"
     ],
     "language": "python",
     "metadata": {},
     "outputs": [
      {
       "metadata": {},
       "output_type": "pyout",
       "prompt_number": 114,
       "text": [
        "[<matplotlib.lines.Line2D at 0x108917510>]"
       ]
      },
      {
       "metadata": {},
       "output_type": "display_data",
       "png": "[encoded data removed]",
       "text": [
        "<matplotlib.figure.Figure at 0x108997610>"
       ]
      }
     ],
     "prompt_number": 114
    },
    {
     "cell_type": "code",
     "collapsed": false,
     "input": [
      "xValM=[-g for g in xVal]"
     ],
     "language": "python",
     "metadata": {},
     "outputs": [],
     "prompt_number": 106
    },
    {
     "cell_type": "code",
     "collapsed": false,
     "input": [
      "plt.plot(xVal,app_points,'ro')\n",
      "plt.plot(xValM,app_points,'ro')\n",
      "plt.plot(x, y)"
     ],
     "language": "python",
     "metadata": {},
     "outputs": [
      {
       "metadata": {},
       "output_type": "pyout",
       "prompt_number": 107,
       "text": [
        "[<matplotlib.lines.Line2D at 0x108996ed0>]"
       ]
      },
      {
       "metadata": {},
       "output_type": "display_data",
       "png": "[encoded data removed]",
       "text": [
        "<matplotlib.figure.Figure at 0x10734c9d0>"
       ]
      }
     ],
     "prompt_number": 107
    },
    {
     "cell_type": "code",
     "collapsed": false,
     "input": [
      "print x"
     ],
     "language": "python",
     "metadata": {},
     "outputs": [
      {
       "output_type": "stream",
       "stream": "stdout",
       "text": [
        "9.5\n"
       ]
      }
     ],
     "prompt_number": 104
    },
    {
     "cell_type": "code",
     "collapsed": false,
     "input": [
      "np.flipud(xVal)"
     ],
     "language": "python",
     "metadata": {},
     "outputs": [
      {
       "metadata": {},
       "output_type": "pyout",
       "prompt_number": 71,
       "text": [
        "array([ 7.175,  6.85 ,  6.525,  6.2  ,  5.875,  5.55 ,  5.225,  4.9  ,\n",
        "        4.575,  4.25 ,  3.925,  3.6  ,  3.275,  2.95 ,  2.625,  2.3  ,\n",
        "        1.975,  1.65 ,  1.325,  1.   ])"
       ]
      }
     ],
     "prompt_number": 71
    },
    {
     "cell_type": "code",
     "collapsed": false,
     "input": [],
     "language": "python",
     "metadata": {},
     "outputs": []
    }
   ],
   "metadata": {}
  }
 ]
}