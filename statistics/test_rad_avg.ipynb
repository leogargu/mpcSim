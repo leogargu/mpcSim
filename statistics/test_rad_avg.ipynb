{
 "metadata": {
  "name": "",
  "signature": "sha256:099406696eac957f1c375b5b4266a526ba4076c2a34847be8b1058824948cbce"
 },
 "nbformat": 3,
 "nbformat_minor": 0,
 "worksheets": [
  {
   "cells": [
    {
     "cell_type": "code",
     "collapsed": false,
     "input": [
      "import matplotlib.pyplot as plt\n",
      "import matplotlib\n",
      "import numpy as np\n",
      "import pandas as pd\n",
      "%matplotlib inline\n",
      "import radial_helpers"
     ],
     "language": "python",
     "metadata": {},
     "outputs": [],
     "prompt_number": 1
    },
    {
     "cell_type": "code",
     "collapsed": false,
     "input": [
      "def plot_points(points, R, L, ny, nz, a):\n",
      "    x=[];\n",
      "    y=[];\n",
      "    for point in points:\n",
      "        x.append(point[0][0])\n",
      "        x.append(point[1][0])\n",
      "        y.append(point[0][1])\n",
      "        y.append(point[1][1])\n",
      "    plt.plot(x,y, 'ro', markersize=3)\n",
      "    plt.vlines(range(0,((ny)/2+1),1),0,ny*0.5*a)\n",
      "    plt.hlines(range(0,nz/2,1),0,nz*0.5*a)\n",
      "    circle = plt.Circle((0,0), radius=R,fill=False)\n",
      "    fig = plt.gcf()\n",
      "    ax=fig.gca()\n",
      "    ax.add_artist(circle)\n",
      "    ax.set_xlim(0,ny*0.5*a)\n",
      "    ax.set_ylim(0,nz*0.5*a)\n",
      "    ax.set_aspect('equal')\n",
      "    plt.show()\n",
      "    \n",
      "    #return fig"
     ],
     "language": "python",
     "metadata": {},
     "outputs": [],
     "prompt_number": 2
    },
    {
     "cell_type": "code",
     "collapsed": false,
     "input": [
      "def unit_test_lengths(ny, a):\n",
      "    #Set up\n",
      "    nz=ny;\n",
      "    L=ny*a;\n",
      "    R=(L-a)*0.5;\n",
      "    #Test\n",
      "    lengths=radial_helpers.find_seg_quant(a,L,ny,nz,R,'length')\n",
      "    return (lengths.sum()/(2*np.pi*R)-1.0)<= 1e-8\n",
      "    \n",
      "def unit_test_weights(ny,a):\n",
      "    #Set up\n",
      "    nz=ny;\n",
      "    L=ny*a;\n",
      "    R=(L-a)*0.5;\n",
      "    #Test\n",
      "    lengths=radial_helpers.find_seg_quant(a,L,ny,nz,R,'length')\n",
      "    weights=radial_helpers.find_weights(lengths,R)\n",
      "    return (sum(weights)-1.0)<=1e-8"
     ],
     "language": "python",
     "metadata": {},
     "outputs": [],
     "prompt_number": 3
    },
    {
     "cell_type": "code",
     "collapsed": false,
     "input": [
      "def stress_test_lengths(num):\n",
      "    for i in range(2,num,2):\n",
      "        if not unit_test_lengths(i,1.0):\n",
      "            print 'FAIL, ny= ', i\n",
      "    print 'Finished testing.'\n",
      "    \n",
      "def stress_test_weights(num):\n",
      "    for i in range(2,num,2):\n",
      "        if not unit_test_weights(i,1.0):\n",
      "            print 'FAIL, ny= ',i\n",
      "    print 'Finished testing.'"
     ],
     "language": "python",
     "metadata": {},
     "outputs": [],
     "prompt_number": 4
    },
    {
     "cell_type": "code",
     "collapsed": false,
     "input": [
      "stress_test_lengths(2000)"
     ],
     "language": "python",
     "metadata": {},
     "outputs": [
      {
       "output_type": "stream",
       "stream": "stdout",
       "text": [
        "Finished testing.\n"
       ]
      }
     ],
     "prompt_number": 41
    },
    {
     "cell_type": "code",
     "collapsed": false,
     "input": [
      "stress_test_weights(1000)"
     ],
     "language": "python",
     "metadata": {},
     "outputs": [
      {
       "output_type": "stream",
       "stream": "stdout",
       "text": [
        "Finished testing.\n"
       ]
      }
     ],
     "prompt_number": 62
    },
    {
     "cell_type": "code",
     "collapsed": false,
     "input": [
      "ny=10;\n",
      "a=1.0;\n",
      "nz=ny;\n",
      "L=ny*a;\n",
      "R=(L-a)*0.5;"
     ],
     "language": "python",
     "metadata": {},
     "outputs": [],
     "prompt_number": 3
    },
    {
     "cell_type": "code",
     "collapsed": false,
     "input": [
      "#points in reality contains arcs (number of segments as oposed to number of points)\n",
      "points=radial_helpers.find_intersection_points(a,L,ny,nz,R)"
     ],
     "language": "python",
     "metadata": {},
     "outputs": [],
     "prompt_number": 4
    },
    {
     "cell_type": "code",
     "collapsed": false,
     "input": [
      "plot_points(points, R, L, ny, nz, a)"
     ],
     "language": "python",
     "metadata": {},
     "outputs": [
      {
       "metadata": {},
       "output_type": "display_data",
       "png": "[encoded data removed]",
       "text": [
        "<matplotlib.figure.Figure at 0x7f307ab513d0>"
       ]
      }
     ],
     "prompt_number": 6
    },
    {
     "cell_type": "code",
     "collapsed": false,
     "input": [
      "lengths=radial_helpers.find_seg_quant(a,L,ny,nz,R,'length')\n",
      "plot_lengths=lengths.reshape(ny,nz)\n",
      "myplot=plt.imshow(plot_lengths,cmap='Greys',interpolation='nearest',extent=[0,nz,0,ny])\n",
      "plt.vlines(range(0,ny,1),0,ny)\n",
      "plt.hlines(range(0,nz,1),0,nz)\n",
      "plt.colorbar(myplot, orientation='vertical')\n",
      "boundary = plt.Circle((ny*0.5,nz*0.5),radius=(ny-1)*0.5,linewidth=1,color='r',fill=False)\n",
      "fig = plt.gcf()\n",
      "fig.gca().add_artist(boundary)"
     ],
     "language": "python",
     "metadata": {},
     "outputs": [
      {
       "metadata": {},
       "output_type": "pyout",
       "prompt_number": 102,
       "text": [
        "<matplotlib.patches.Circle at 0x7f643e8ce910>"
       ]
      },
      {
       "metadata": {},
       "output_type": "display_data",
       "png": "[encoded data removed]",
       "text": [
        "<matplotlib.figure.Figure at 0x7f643ea3e4d0>"
       ]
      }
     ],
     "prompt_number": 102
    },
    {
     "cell_type": "code",
     "collapsed": false,
     "input": [
      "weights=radial_helpers.find_weights(lengths,R)\n",
      "aux=np.array(weights)\n",
      "plot_weights=aux.reshape(ny,nz)\n",
      "myplot=plt.imshow(plot_weights,cmap='Greys',interpolation='nearest',extent=[0,nz,0,ny])\n",
      "plt.vlines(range(0,ny,1),0,ny)\n",
      "plt.hlines(range(0,nz,1),0,nz)\n",
      "plt.colorbar(myplot, orientation='vertical')\n",
      "boundary = plt.Circle((ny*0.5,nz*0.5),radius=(ny-1)*0.5,linewidth=1,color='r',fill=False)\n",
      "fig = plt.gcf()\n",
      "fig.gca().add_artist(boundary)"
     ],
     "language": "python",
     "metadata": {},
     "outputs": [
      {
       "metadata": {},
       "output_type": "pyout",
       "prompt_number": 104,
       "text": [
        "<matplotlib.patches.Circle at 0x7f643e7a8590>"
       ]
      },
      {
       "metadata": {},
       "output_type": "display_data",
       "png": "[encoded data removed]",
       "text": [
        "<matplotlib.figure.Figure at 0x7f643e817090>"
       ]
      }
     ],
     "prompt_number": 104
    },
    {
     "cell_type": "code",
     "collapsed": false,
     "input": [
      "volumes=radial_helpers.find_seg_quant(a,L,ny,nz,R,'volume')\n",
      "plot_volumes=volumes.reshape(ny,nz)\n",
      "myplot=plt.imshow(plot_volumes,cmap='Greys',interpolation='nearest',extent=[0,nz,0,ny])\n",
      "plt.vlines(range(0,ny,1),0,ny)\n",
      "plt.hlines(range(0,nz,1),0,nz)\n",
      "plt.colorbar(myplot, orientation='vertical')\n",
      "boundary = plt.Circle((ny*0.5,nz*0.5),radius=(ny-1)*0.5,linewidth=1,color='r',fill=False)\n",
      "fig = plt.gcf()\n",
      "fig.gca().add_artist(boundary)"
     ],
     "language": "python",
     "metadata": {},
     "outputs": [
      {
       "metadata": {},
       "output_type": "pyout",
       "prompt_number": 9,
       "text": [
        "<matplotlib.patches.Circle at 0x7f6b4ce8bed0>"
       ]
      },
      {
       "metadata": {},
       "output_type": "display_data",
       "png": "[encoded data removed]",
       "text": [
        "<matplotlib.figure.Figure at 0x7f6b705c30d0>"
       ]
      }
     ],
     "prompt_number": 9
    },
    {
     "cell_type": "code",
     "collapsed": false,
     "input": [
      "ny=20;\n",
      "a=1.0;\n",
      "nz=ny;\n",
      "L=ny*a;\n",
      "L_half=0.5*L;\n",
      "R=(L-a)*0.5;"
     ],
     "language": "python",
     "metadata": {},
     "outputs": [],
     "prompt_number": 2
    },
    {
     "cell_type": "code",
     "collapsed": false,
     "input": [
      "data = pd.read_table('./../experiments/velprof_slice2_CAM_averaged.dat',sep='\\t',skiprows=1,skipinitialspace=True,header=None);"
     ],
     "language": "python",
     "metadata": {},
     "outputs": [],
     "prompt_number": 3
    },
    {
     "cell_type": "code",
     "collapsed": false,
     "input": [
      "y_values = []\n",
      "x_vals = []\n",
      "num_points=10;\n",
      "num_points /= 2;\n",
      "for i in range(0,num_points):\n",
      "    radius = a + i*(R-a)/(1.0*num_points-1.0);\n",
      "    x_vals.insert(0,L_half-radius)\n",
      "    x_vals.append(L_half+radius)\n",
      "    lengths = radial_helpers.find_seg_quant(a,L,ny,nz,radius,'length')\n",
      "    warray=radial_helpers.find_weights(lengths,radius)\n",
      "    y_values.append(np.dot(np.nan_to_num(data.values[:,1]),warray))\n",
      "y_vals=np.concatenate((y_values[::-1],y_values))"
     ],
     "language": "python",
     "metadata": {},
     "outputs": [],
     "prompt_number": 6
    },
    {
     "cell_type": "code",
     "collapsed": false,
     "input": [
      "plt.plot(x_vals,y_vals, 'ro', markersize=3)\n",
      "fig=plt.gcf()\n",
      "ax=fig.gca()\n",
      "y1=y_vals.max()\n",
      "ax.set_ylim([0,1.1*y1])\n",
      "plt.vlines(range(0,ny,1),0,1.1*y1)\n",
      "ax.set_xlim(ax.get_xlim()[::-1]) "
     ],
     "language": "python",
     "metadata": {},
     "outputs": [
      {
       "metadata": {},
       "output_type": "pyout",
       "prompt_number": 7,
       "text": [
        "(20.0, 0.0)"
       ]
      },
      {
       "metadata": {},
       "output_type": "display_data",
       "png": "[encoded data removed]",
       "text": [
        "<matplotlib.figure.Figure at 0x7fe77f429250>"
       ]
      }
     ],
     "prompt_number": 7
    },
    {
     "cell_type": "code",
     "collapsed": false,
     "input": [
      "#http://en.wikipedia.org/wiki/Coefficient_of_determination\n",
      "#http://terpconnect.umd.edu/~toh/spectrum/CurveFitting.html\n",
      "def calculate_Rsq(yvals, residuals):\n",
      "    y_mean=yvals.mean()\n",
      "    SStot=0\n",
      "    #SSreg=0\n",
      "    SSres=0\n",
      "    for i in range(0,len(yvals)):\n",
      "        SStot += (yvals[i]-y_mean)**2\n",
      "        #SSreg += (fit_points[i]-y_mean)**2\n",
      "        SSres += (residuals[i])**2\n",
      "    Rsq=1-(SSres/SStot)\n",
      "    return Rsq\n",
      "\n",
      "\n",
      "#xvals and yvals must be numpy 1D arrays\n",
      "#This uses least squares:\n",
      "#http://docs.scipy.org/doc/numpy/reference/generated/numpy.polyfit.html\n",
      "def calculate_parabolic_fit(xvals,yvals):\n",
      "    fit_coeffs, cov = np.polyfit(xvals, yvals, 2, full=False, cov=True)\n",
      "    #create fitting polynomial\n",
      "    fit = np.poly1d(fit_coeffs)\n",
      "    fit_points=[]\n",
      "    for x in xvals:\n",
      "        fit_points.append(fit(x))\n",
      "    residuals = yvals - fit_points\n",
      "    R_sq = calculate_Rsq(yvals,residuals)\n",
      "    return fit, R_sq"
     ],
     "language": "python",
     "metadata": {},
     "outputs": [],
     "prompt_number": 8
    },
    {
     "cell_type": "code",
     "collapsed": false,
     "input": [
      "fit,R2=calculate_parabolic_fit(x_vals,y_vals)\n",
      "fit_points=[]\n",
      "fit_x_values=np.linspace(0 ,ny , 100)\n",
      "for x in fit_x_values:\n",
      "    fit_points.append(fit(x))    "
     ],
     "language": "python",
     "metadata": {},
     "outputs": [],
     "prompt_number": 9
    },
    {
     "cell_type": "code",
     "collapsed": false,
     "input": [
      "plt.plot(x_vals,y_vals, 'ro', markersize=3,label='d')\n",
      "fig=plt.gcf()\n",
      "ax=fig.gca()\n",
      "ax.plot(fit_x_values,fit_points,label='f')\n",
      "plt.vlines(range(0,ny),0,max(y_vals)+0.05)\n",
      "plt.vlines([0.5,ny-0.5],0,max(y_vals)+0.05,'g')\n",
      "ax.set_xlim(ax.get_xlim()[::-1]) \n",
      "plt.legend()"
     ],
     "language": "python",
     "metadata": {},
     "outputs": [
      {
       "metadata": {},
       "output_type": "pyout",
       "prompt_number": 15,
       "text": [
        "<matplotlib.legend.Legend at 0x7fe77ee47cd0>"
       ]
      },
      {
       "metadata": {},
       "output_type": "display_data",
       "png": "[encoded data removed]",
       "text": [
        "<matplotlib.figure.Figure at 0x7fe77ef66050>"
       ]
      }
     ],
     "prompt_number": 15
    },
    {
     "cell_type": "code",
     "collapsed": false,
     "input": [
      "slip = y_vals.min()\n",
      "print slip"
     ],
     "language": "python",
     "metadata": {},
     "outputs": [
      {
       "output_type": "stream",
       "stream": "stdout",
       "text": [
        "0.066824683184\n"
       ]
      }
     ],
     "prompt_number": 11
    },
    {
     "cell_type": "code",
     "collapsed": false,
     "input": [],
     "language": "python",
     "metadata": {},
     "outputs": []
    }
   ],
   "metadata": {}
  }
 ]
}